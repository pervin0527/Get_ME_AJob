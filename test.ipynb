{
 "cells": [
  {
   "cell_type": "code",
   "execution_count": 1,
   "metadata": {},
   "outputs": [],
   "source": [
    "import re\n",
    "import time\n",
    "\n",
    "from tqdm import tqdm\n",
    "from selenium import webdriver\n",
    "from selenium.webdriver.common.by import By\n",
    "from selenium.webdriver.chrome.options import Options\n",
    "from selenium.common.exceptions import NoSuchElementException"
   ]
  },
  {
   "cell_type": "code",
   "execution_count": 2,
   "metadata": {},
   "outputs": [],
   "source": [
    "url = 'https://www.wanted.co.kr/'\n",
    "browser = webdriver.Chrome()\n",
    "browser.get(url)"
   ]
  },
  {
   "cell_type": "code",
   "execution_count": 3,
   "metadata": {},
   "outputs": [],
   "source": [
    "\"\"\"검색조건 설정\"\"\"\n",
    "## 네비게이션 바에서 [채용] 버튼 클릭.\n",
    "browser.find_element(By.CLASS_NAME, 'Menu_jobListLink__GYHAI').click()\n",
    "time.sleep(1.5)\n",
    "\n",
    "## 직군에서 [개발] 선택\n",
    "browser.find_element(By.CLASS_NAME, 'JobGroup_JobGroup__H1m1m').click()\n",
    "browser.find_element(By.XPATH, '//*[@id=\"__next\"]/div[3]/article/div/div[1]/section/ul/li[1]/a').click()\n",
    "\n",
    "## [개발 분야] 선택\n",
    "browser.find_element(By.CLASS_NAME, 'JobCategory_JobCategory__btn__k3EFe').click()\n",
    "browser.find_element(By.XPATH, '//*[@id=\"__next\"]/div[3]/article/div/div[2]/section/div[1]/div/button[9]').click()\n",
    "browser.find_element(By.CLASS_NAME, 'JobCategoryOverlay_JobCategoryOverlay__bottom__btn__GliIw').click()"
   ]
  },
  {
   "cell_type": "code",
   "execution_count": 4,
   "metadata": {},
   "outputs": [
    {
     "name": "stdout",
     "output_type": "stream",
     "text": [
      "12\n"
     ]
    }
   ],
   "source": [
    "container = browser.find_element(By.CLASS_NAME, 'List_List__FsLch')\n",
    "time.sleep(2)\n",
    "\n",
    "blocks = container.find_elements(By.CLASS_NAME, 'JobCard_JobCard__oZL4d')\n",
    "\n",
    "print(len(blocks))"
   ]
  },
  {
   "cell_type": "code",
   "execution_count": 6,
   "metadata": {},
   "outputs": [
    {
     "name": "stderr",
     "output_type": "stream",
     "text": [
      "  0%|          | 0/12 [00:11<?, ?it/s]"
     ]
    },
    {
     "name": "stdout",
     "output_type": "stream",
     "text": [
      "{'회사명': '덴컴', '채용공고 제목': 'Front-end 개발자', '채용공고 세부 사항': '서울 강남구,경력 4-10년', '기술 세부 사항': '음성인식 AI 서비스 프론트엔드 개발 및 유지보수,음성인식 UX를 고려한 사용자 친화적 인터페이스 구현,코드 리뷰 및 품질 향상을 위한 코드베이스 개선,,보안 및 성능 최적화를 고려한 서비스 프론트앤드 개발, ,, 기술  ,Typescript, Node.js, React.js, Next.js 기반 프론트엔드 개발,Jest, cypress 기반 테스트 개발,,, 협업 ,Figma 사용 경험이 있는 분,,원활한 커뮤니케이션이 가능한 분,코드 리뷰를 진행해본 경험이 있는 분,UI/UX에 높은 가치를 두고 일하시는 분음성인식 AI 서비스 프론트엔드 개발 및 유지보수,음성인식 UX를 고려한 사용자 친화적 인터페이스 구현,코드 리뷰 및 품질 향상을 위한 코드베이스 개선,,보안 및 성능 최적화를 고려한 서비스 프론트앤드 개발, ,, 기술  ,Typescript, Node.js, React.js, Next.js 기반 프론트엔드 개발,Jest, cypress 기반 테스트 개발,,, 협업 ,Figma 사용 경험이 있는 분,,원활한 커뮤니케이션이 가능한 분,코드 리뷰를 진행해본 경험이 있는 분,UI/UX에 높은 가치를 두고 일하시는 분', '링크': 'https://www.wanted.co.kr/wd/214274'}\n"
     ]
    },
    {
     "name": "stderr",
     "output_type": "stream",
     "text": [
      "\n"
     ]
    }
   ],
   "source": [
    "for i, block in tqdm(enumerate(blocks), total=len(blocks), leave=True):\n",
    "    try:\n",
    "        card = block.find_element(By.TAG_NAME, 'a')\n",
    "        company_name = card.get_attribute('data-company-name')\n",
    "        title = card.get_attribute('data-position-name')\n",
    "        link = card.get_attribute('href')\n",
    "\n",
    "        card_browser = webdriver.Chrome()\n",
    "        card_browser.get(link)\n",
    "\n",
    "        option_block = card_browser.find_element(By.CLASS_NAME, 'JobHeader_JobHeader__Tools__n5Vcg')\n",
    "        options = option_block.find_elements(By.CLASS_NAME, 'JobHeader_JobHeader__Tools__Company__Info__omnQX')\n",
    "        option_list = [x.text for x in options]\n",
    "        option_list = ','.join(option_list)\n",
    "\n",
    "        main_work_block = card_browser.find_element(By.CLASS_NAME, 'JobDescription_JobDescription__paragraph__Iwfqn')\n",
    "        main_works = main_work_block.find_element(By.CLASS_NAME, 'Typography_Typography__body1-reading__KvBaS').find_elements(By.TAG_NAME, 'span')\n",
    "        main_work_list = [x.text for x in main_works]\n",
    "        main_work_list = re.sub(r'[ㆍ\\-\\[\\]•]', '', main_work_list[0]).split('\\n')\n",
    "        main_work_list = ','.join(main_work_list)\n",
    "\n",
    "        requirements_block = card_browser.find_element(By.CLASS_NAME, 'JobDescription_JobDescription__paragraph__Iwfqn')\n",
    "        requirements = requirements_block.find_elements(By.TAG_NAME, 'span')\n",
    "        requirement_list = [x.text for x in requirements]\n",
    "        requirement_list = re.sub(r'[ㆍ\\-\\[\\]•]', '', requirement_list[0]).split('\\n')\n",
    "        requirement_list = ','.join(requirement_list)\n",
    "        \n",
    "        detail_fields = main_work_list + requirement_list\n",
    "        data = {'회사명' : company_name, '채용공고 제목' : title, '채용공고 세부 사항' : option_list, '기술 세부 사항' : detail_fields, '링크' : link}\n",
    "        print(data)\n",
    "        \n",
    "    except NoSuchElementException as e:\n",
    "        continue\n",
    "\n",
    "    break"
   ]
  }
 ],
 "metadata": {
  "kernelspec": {
   "display_name": "base",
   "language": "python",
   "name": "python3"
  },
  "language_info": {
   "codemirror_mode": {
    "name": "ipython",
    "version": 3
   },
   "file_extension": ".py",
   "mimetype": "text/x-python",
   "name": "python",
   "nbconvert_exporter": "python",
   "pygments_lexer": "ipython3",
   "version": "3.9.13"
  }
 },
 "nbformat": 4,
 "nbformat_minor": 2
}
