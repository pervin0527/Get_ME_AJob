{
 "cells": [
  {
   "cell_type": "code",
   "execution_count": 1,
   "metadata": {},
   "outputs": [],
   "source": [
    "import time\n",
    "\n",
    "from tqdm import tqdm\n",
    "from selenium import webdriver\n",
    "from selenium.webdriver.common.by import By\n",
    "from selenium.webdriver.chrome.options import Options\n",
    "from selenium.common.exceptions import NoSuchElementException"
   ]
  },
  {
   "cell_type": "code",
   "execution_count": 2,
   "metadata": {},
   "outputs": [],
   "source": [
    "url = 'https://www.saramin.co.kr/zf_user/'\n",
    "browser = webdriver.Chrome()\n",
    "browser.get(url)"
   ]
  },
  {
   "cell_type": "code",
   "execution_count": 3,
   "metadata": {},
   "outputs": [],
   "source": [
    "browser.find_element(By.CLASS_NAME, 'recruit').click()\n",
    "seoul_all = browser.find_element(By.XPATH, '//*[@id=\"loc_mcd_101000\"]') ## 서울 전체\n",
    "browser.execute_script(\"arguments[0].click();\", seoul_all)\n",
    "\n",
    "gyeonggi_all = browser.find_element(By.XPATH, '//*[@id=\"depth1_btn_102000\"]/button') ## 경기\n",
    "browser.execute_script(\"arguments[0].click();\", gyeonggi_all)\n",
    "\n",
    "browser.find_element(By.CLASS_NAME, 'job_category_section').click()\n",
    "browser.find_element(By.XPATH, '//*[@id=\"sp_main_wrapper\"]/div[2]/div/div[2]/div[2]/div[1]/button[6]').click()\n",
    "browser.find_element(By.XPATH, '//*[@id=\"sp_job_category_subDepth_2\"]/div[2]/div/div[2]/div/dl[2]/dd/button[6]').click()\n",
    "browser.find_element(By.XPATH, '//*[@id=\"sp_job_category_subDepth_2\"]/div[2]/div/div[2]/div/dl[2]/dd/button[7]').click()\n",
    "browser.find_element(By.XPATH, '//*[@id=\"search_btn\"]').click()"
   ]
  },
  {
   "cell_type": "code",
   "execution_count": 5,
   "metadata": {},
   "outputs": [
    {
     "name": "stdout",
     "output_type": "stream",
     "text": [
      "50\n"
     ]
    }
   ],
   "source": [
    "container = browser.find_element(By.CLASS_NAME, 'list_body')\n",
    "blocks = container.find_elements(By.CLASS_NAME, 'list_item')\n",
    "blocks.pop(21)\n",
    "print(len(blocks))"
   ]
  },
  {
   "cell_type": "code",
   "execution_count": 19,
   "metadata": {},
   "outputs": [
    {
     "name": "stdout",
     "output_type": "stream",
     "text": [
      "서울전체 외,신입경력정규직,대학교(4년)↑\n",
      "경기 남양주시,경력 3년↑정규직,대학교(4년)↑\n",
      "서울전체 외,신입경력정규직,대학(2,3년)↑\n",
      "서울전체 외,신입경력정규직,대학교(4년)↑\n",
      "서울전체 외,경력 1년↑정규직,학력무관\n",
      "서울전체 외,신입경력정규직 외,대학(2,3년)↑\n",
      "경기 안양시 외,경력정규직,대학교(4년)↑\n",
      "서울전체 외,경력무관교육생,학력무관\n",
      "서울 금천구,신입경력정규직 외,대학교(4년)↑\n",
      "서울 서초구,신입경력정규직 외,석사↑\n",
      "서울 강남구,경력 2년↑정규직,학력무관\n",
      "경기 부천시 외,경력정규직,학력무관\n",
      "서울 강남구,2 ~ 10년정규직,대학(2,3년)↑\n",
      "서울 종로구,경력무관정규직 외,대학교(4년)↑\n",
      "서울 송파구,10 ~ 15년정규직,학력무관\n",
      "서울 노원구,경력무관정규직,대학교(4년)↑\n",
      "경기전체 외,3 ~ 13년정규직,대학교(4년)↑\n",
      "서울 금천구,신입경력정규직,대학교(4년)↑\n",
      "서울 양천구,경력 3년↑정규직,대학(2,3년)↑\n",
      "서울전체 외,5 ~ 10년정규직,학력무관\n",
      "서울전체 외,경력 5년↑프리랜서,학력무관\n",
      "경기 성남시 분당구 외,신입경력정규직 외,고졸↑\n",
      "경기 수원시 영통구,신입경력정규직,대학교(4년)↑\n",
      "경기 안양시 동안구,경력 3년↑정규직,학력무관\n",
      "경기 성남시 분당구,신입경력정규직,대학교(4년)↑\n",
      "경기 성남시 분당구 외,경력무관정규직,대학(2,3년)↑\n",
      "서울전체 외,2 ~ 5년정규직,고졸↑\n",
      "서울 광진구 외,5 ~ 10년정규직,대학교(4년)↑\n",
      "경기 화성시,경력무관정규직,대학교(4년)↑\n",
      "서울 구로구,경력 5년↑정규직,석사↑\n",
      "대전 유성구 외,경력무관정규직,학력무관\n",
      "경기 의왕시,3 ~ 5년정규직,학력무관\n",
      "서울 강남구,신입경력정규직,대학교(4년)↑\n",
      "경기 성남시 분당구,경력 7년↑정규직,석사↑\n",
      "경기 고양시 일산서구,신입경력정규직,대학교(4년)↑\n",
      "서울 강남구 외,신입정규직,대학교(4년)↑\n",
      "서울 강남구,신입경력정규직,석사↑\n",
      "서울 관악구,경력 2년↑정규직,학력무관\n",
      "서울 송파구,2 ~ 10년정규직,대학교(4년)↑\n",
      "서울전체 외,1 ~ 5년정규직,학력무관\n",
      "경기전체 외,신입경력정규직,대학교(4년)↑\n",
      "서울 강남구,경력무관정규직,학력무관\n",
      "경기 성남시 분당구 외,신입경력정규직,학력무관\n",
      "서울 강남구,신입경력정규직 외,대학교(4년)↑\n",
      "경기 고양시 일산동구,경력무관계약직,대학교(4년)↑\n",
      "경기 성남시 외,경력 2년↑정규직 외,대학(2,3년)↑\n",
      "서울 구로구,신입경력병역특례,석사↑\n",
      "서울 성동구,경력(년수무관)정규직,대학(2,3년)↑\n",
      "서울 서초구,3 ~ 12년정규직,대학교(4년)↑\n"
     ]
    }
   ],
   "source": [
    "current_page_data = []\n",
    "for block in blocks:\n",
    "    try:\n",
    "        have_id = block.get_attribute('id')\n",
    "        company_name_box = block.find_element(By.CLASS_NAME, 'company_nm')\n",
    "        company_name = company_name_box.find_element(By.CLASS_NAME, 'str_tit').text\n",
    "\n",
    "        recurit_box = block.find_element(By.CLASS_NAME, 'notification_info')\n",
    "        title_box = recurit_box.find_element(By.CLASS_NAME, 'str_tit')\n",
    "        title = title_box.text\n",
    "        link = title_box.get_attribute('href')\n",
    "\n",
    "        detail_fields_box = block.find_element(By.CLASS_NAME, 'job_meta').find_element(By.CLASS_NAME, 'job_sector')\n",
    "        detail_fields = detail_fields_box.find_elements(By.TAG_NAME, 'span')\n",
    "        detail_fields = ','.join([x.text for x in detail_fields])\n",
    "\n",
    "        option_box = block.find_element(By.CLASS_NAME, 'recruit_info')\n",
    "        options = option_box.find_elements(By.TAG_NAME, 'p')\n",
    "        options = ','.join([option.text.replace(' · ', '') for option in options])\n",
    "\n",
    "        data = {'회사명' : company_name, '채용공고 제목' : title, '채용공고 세부 사항' : options, '기술 세부 사항' : detail_fields, '링크' : link}\n",
    "        current_page_data.append(data)\n",
    "        \n",
    "    except:\n",
    "        continue\n",
    "\n",
    "    \n",
    "    print(options)"
   ]
  },
  {
   "cell_type": "code",
   "execution_count": null,
   "metadata": {},
   "outputs": [],
   "source": [
    "## page1 url :https://www.saramin.co.kr/zf_user/jobs/list/domestic?loc_mcd=101000%2C102000&cat_kewd=108%2C109&panel_type=&search_optional_item=n&search_done=y&panel_count=y&preview=y\n",
    "## page2 url : https://www.saramin.co.kr/zf_user/jobs/list/domestic?page=2&loc_mcd=101000%2C102000&cat_kewd=108%2C109&search_optional_item=n&search_done=y&panel_count=y&preview=y&isAjaxRequest=0&page_count=50&sort=RL&type=domestic&is_param=1&isSearchResultEmpty=1&isSectionHome=0&searchParamCount=2#searchTitle"
   ]
  }
 ],
 "metadata": {
  "kernelspec": {
   "display_name": "base",
   "language": "python",
   "name": "python3"
  },
  "language_info": {
   "codemirror_mode": {
    "name": "ipython",
    "version": 3
   },
   "file_extension": ".py",
   "mimetype": "text/x-python",
   "name": "python",
   "nbconvert_exporter": "python",
   "pygments_lexer": "ipython3",
   "version": "3.9.13"
  }
 },
 "nbformat": 4,
 "nbformat_minor": 2
}
